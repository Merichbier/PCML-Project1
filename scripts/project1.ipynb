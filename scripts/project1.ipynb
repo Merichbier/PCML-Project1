{
 "cells": [
  {
   "cell_type": "code",
   "execution_count": 1,
   "metadata": {
    "collapsed": false
   },
   "outputs": [],
   "source": [
    "# Useful starting lines\n",
    "import numpy as np\n",
    "import matplotlib.pyplot as plt\n",
    "from proj1_helpers import *\n",
    "\n",
    "%matplotlib inline\n",
    "%load_ext autoreload\n",
    "%autoreload 2"
   ]
  },
  {
   "cell_type": "markdown",
   "metadata": {},
   "source": [
    "## Load the training data into feature matrix, class labels, and event ids:"
   ]
  },
  {
   "cell_type": "code",
   "execution_count": 2,
   "metadata": {
    "collapsed": false
   },
   "outputs": [],
   "source": [
    "DATA_TRAIN_PATH = 'data/train.csv' # TODO: download train data and supply path here \n",
    "DATA_TEST_PATH = 'data/test.csv' # TODO: download train data and supply path here"
   ]
  },
  {
   "cell_type": "markdown",
   "metadata": {},
   "source": [
    "We load the training data into our y (labels), tX (input matrix) and ids (indexes)"
   ]
  },
  {
   "cell_type": "code",
   "execution_count": 3,
   "metadata": {
    "collapsed": true
   },
   "outputs": [],
   "source": [
    "y, tX, ids = load_csv_data(DATA_TRAIN_PATH)"
   ]
  },
  {
   "cell_type": "markdown",
   "metadata": {},
   "source": [
    "## Pre-processing functions by Victor"
   ]
  },
  {
   "cell_type": "code",
   "execution_count": 4,
   "metadata": {
    "collapsed": false
   },
   "outputs": [],
   "source": [
    "from helpers import standardize\n",
    "\n",
    "def na(x):\n",
    "    return np.any(x == -999)\n",
    "\n",
    "def pos(x):\n",
    "    return np.all(x > 0)\n",
    "\n",
    "def process_data(data, impute_strategy='most_frequent'):\n",
    "    ''' This function add data where we have missing data following different strategies'''\n",
    "\n",
    "    # Impute missing data\n",
    "    for i in range(data.shape[1]):\n",
    "        \n",
    "        # If NA values in column\n",
    "        if (na(data[:, i])):\n",
    "            mask = (data[:, i] != -999.)\n",
    "            affectedColumns = data[mask, i]\n",
    "            \n",
    "            if impute_strategy == 'most_frequent':\n",
    "                values, counts = np.unique(affectedColumns, return_counts=True)\n",
    "                data[~mask, i] = values[np.argmax(counts)]\n",
    "            elif impute_strategy == 'median':\n",
    "                data[~mask, i] = np.median(affectedColumns)\n",
    "            elif impute_strategy == 'mean':\n",
    "                data[~mask, i] = np.mean(affectedColumns)\n",
    "            else:\n",
    "                raise ValueError(\"The given impute strategy is invalid\")\n",
    "            \n",
    "    inv_log_cols = [0, 2, 5, 7, 9, 10, 13, 16, 19, 21, 23, 26]\n",
    "\n",
    "    # Create inverse log values of features which are positive in value.\n",
    "    data_inv_log_cols = np.log(1 / (1 + data[:, inv_log_cols]))\n",
    "    processed_data = np.hstack((data, data_inv_log_cols))\n",
    "            \n",
    "    return processed_data"
   ]
  },
  {
   "cell_type": "markdown",
   "metadata": {},
   "source": [
    "## Pre-processing of input data"
   ]
  },
  {
   "cell_type": "markdown",
   "metadata": {},
   "source": [
    "Here we decide if we want to pre-process our data or not launching this code."
   ]
  },
  {
   "cell_type": "code",
   "execution_count": 5,
   "metadata": {
    "collapsed": false
   },
   "outputs": [],
   "source": [
    "tX = process_data(tX)\n",
    "tX, mean_tX, std_tX = standardize(tX)"
   ]
  },
  {
   "cell_type": "markdown",
   "metadata": {},
   "source": [
    "## Least squares"
   ]
  },
  {
   "cell_type": "code",
   "execution_count": 6,
   "metadata": {
    "collapsed": false
   },
   "outputs": [],
   "source": [
    "from least_squares import least_squares\n",
    "\n",
    "weights = least_squares(y, tX)\n",
    "\n",
    "OUTPUT_PATH = 'data/output.csv' # TODO: fill in desired name of output file for submission"
   ]
  },
  {
   "cell_type": "markdown",
   "metadata": {},
   "source": [
    "## Import the test data"
   ]
  },
  {
   "cell_type": "code",
   "execution_count": 12,
   "metadata": {
    "collapsed": false
   },
   "outputs": [],
   "source": [
    "_, tX_test, ids_test = load_csv_data(DATA_TEST_PATH)"
   ]
  },
  {
   "cell_type": "markdown",
   "metadata": {},
   "source": [
    "Process it (or not)"
   ]
  },
  {
   "cell_type": "code",
   "execution_count": 13,
   "metadata": {
    "collapsed": false
   },
   "outputs": [],
   "source": [
    "tX_test = process_data(tX_test)\n",
    "tX_test, _, _ = standardize(tX_test, mean_tX, std_tX)"
   ]
  },
  {
   "cell_type": "markdown",
   "metadata": {},
   "source": [
    "## Generate predictions and save ouput in csv format for submission:"
   ]
  },
  {
   "cell_type": "code",
   "execution_count": 15,
   "metadata": {
    "collapsed": false
   },
   "outputs": [],
   "source": [
    "y_pred = predict_labels(weights, tX_test)\n",
    "create_csv_submission(ids_test, y_pred, OUTPUT_PATH)"
   ]
  }
 ],
 "metadata": {
  "anaconda-cloud": {},
  "kernelspec": {
   "display_name": "Python [Root]",
   "language": "python",
   "name": "Python [Root]"
  },
  "language_info": {
   "codemirror_mode": {
    "name": "ipython",
    "version": 3
   },
   "file_extension": ".py",
   "mimetype": "text/x-python",
   "name": "python",
   "nbconvert_exporter": "python",
   "pygments_lexer": "ipython3",
   "version": "3.5.2"
  }
 },
 "nbformat": 4,
 "nbformat_minor": 0
}
